{
  "nbformat": 4,
  "nbformat_minor": 0,
  "metadata": {
    "colab": {
      "name": "a4.ipynb",
      "provenance": [],
      "collapsed_sections": []
    },
    "kernelspec": {
      "display_name": "Python 3",
      "language": "python",
      "name": "python3"
    },
    "language_info": {
      "codemirror_mode": {
        "name": "ipython",
        "version": 3
      },
      "file_extension": ".py",
      "mimetype": "text/x-python",
      "name": "python",
      "nbconvert_exporter": "python",
      "pygments_lexer": "ipython3",
      "version": "3.7.9"
    }
  },
  "cells": [
    {
      "cell_type": "code",
      "metadata": {
        "id": "6flZUXM7mgWo",
        "outputId": "9d7e804e-5fbf-40c0-88e4-b431f90c853c",
        "colab": {
          "base_uri": "https://localhost:8080/"
        }
      },
      "source": [
        "#### from PIL import Image\n",
        "import numpy as np\n",
        "#img=Image.open('ORL/s1/res8.png')\n",
        "#img.show()\n",
        "import re\n",
        "from matplotlib import pyplot as plt\n",
        "import numpy\n",
        "M1=32\n",
        "M2=6\n",
        "M3=10\n",
        "def read_pgm(filename, byteorder='>'):\n",
        "    \"\"\"Return image data from a raw PGM file as numpy array.\n",
        "\n",
        "    Format specification: http://netpbm.sourceforge.net/doc/pgm.html\n",
        "\n",
        "    \"\"\"\n",
        "    with open(filename, 'rb') as f:\n",
        "        buffer = f.read()\n",
        "    try:\n",
        "        header, width, height, maxval = re.search(\n",
        "            b\"(^P5\\s(?:\\s*#.*[\\r\\n])*\"\n",
        "            b\"(\\d+)\\s(?:\\s*#.*[\\r\\n])*\"\n",
        "            b\"(\\d+)\\s(?:\\s*#.*[\\r\\n])*\"\n",
        "            b\"(\\d+)\\s(?:\\s*#.*[\\r\\n]\\s)*)\", buffer).groups()\n",
        "    except AttributeError:\n",
        "        raise ValueError(\"Not a raw PGM file: '%s'\" % filename)\n",
        "    return numpy.frombuffer(buffer,\n",
        "                            dtype='u1' if int(maxval) < 256 else byteorder+'u2',\n",
        "                            count=int(width)*int(height),\n",
        "                            offset=len(header)\n",
        "                            ).reshape((int(height), int(width)))\n",
        "\n",
        "\n",
        "if __name__ == \"__main__\":\n",
        "    database=[]\n",
        "    X=[]\n",
        "    for i in range(32):\n",
        "        temp=[]\n",
        "        for j in range(6):\n",
        "            image = read_pgm(\"../images/ORL/s\"+str(i+1)+\"/\"+str(j+1)+\".pgm\", byteorder='<')\n",
        "            temp.append(image)\n",
        "            X.append(image.ravel())\n",
        "        database.append(temp)\n",
        "    database=np.array(database)\n",
        "    X=np.array(X)\n",
        "    Xb=np.sum(X,axis=0)\n",
        "    Xb=Xb/X.shape[0]\n",
        "    Xib=np.subtract(X,Xb)\n",
        "    L=np.matmul(Xib,Xib.T)\n",
        "    print(L.shape)\n",
        "    print(X.shape,X.shape[0])\n",
        "    print(Xib.shape)\n",
        "    #image = read_pgm(\"ORL/s1/1.pgm\", byteorder='<')\n",
        "    #print(type(image))\n",
        "    #plt.imshow(database[31][1], pyplot.cm.gray)"
      ],
      "execution_count": 3,
      "outputs": [
        {
          "output_type": "stream",
          "text": [
            "(192, 192)\n",
            "(192, 10304) 192\n",
            "(192, 10304)\n"
          ],
          "name": "stdout"
        }
      ]
    },
    {
      "cell_type": "code",
      "metadata": {
        "id": "EqGnQN_gmgWw"
      },
      "source": [
        "import sys\n",
        "from numpy import linalg as LA\n",
        "def eigcof(U,k,Xb,zp):\n",
        "    Zpb=np.subtract(zp,Xb)\n",
        "    vkb=U[:,:k]\n",
        "    #print(vkb.shape,Zpb.shape)\n",
        "    return np.matmul(np.transpose(vkb),Zpb)\n",
        "def diff(alphas,u,K,Xb,image):\n",
        "    a,b,c=alphas.shape\n",
        "    mins=[sys.maxsize,0,0]\n",
        "    vec=eigcof(u,K,Xb,image.ravel())\n",
        "    #print(vec)\n",
        "    c=0\n",
        "    for i in range(a):\n",
        "        for j in range(b):\n",
        "            #print(vec.shape,alphas[i,j].shape)\n",
        "            res=np.subtract(vec,alphas[i,j])\n",
        "            val=LA.norm(res)\n",
        "            #print(vec,alphas[i,j],val)\n",
        "            c=1\n",
        "            if(val<mins[0]):\n",
        "                #print(vec,alphas[i,j],val,i,j)\n",
        "                mins=[val,i,j]\n",
        "    return mins[1]+1#[mins[1]+1,mins[2]+1]\n",
        "def onestep(Alphas,u,K,Xb):\n",
        "    Tot=0\n",
        "    Pos=0\n",
        "    for i in range(32):\n",
        "        for j in range(6,10):\n",
        "            image = read_pgm(\"../images/ORL/s\"+str(i+1)+\"/\"+str(j+1)+\".pgm\", byteorder='<')\n",
        "            chk=diff(Alphas,u,K,Xb,image.ravel())\n",
        "            if(chk==(i+1)):\n",
        "                Pos+=1\n",
        "            Tot+=1\n",
        "    return Pos/Tot\n",
        "def Aplcal(u,K,Xb):\n",
        "    Alphas=[]\n",
        "    for i in range(32):\n",
        "        temp=[]\n",
        "        for j in range(6):\n",
        "            image = read_pgm(\"../images/ORL/s\"+str(i+1)+\"/\"+str(j+1)+\".pgm\", byteorder='<')\n",
        "            temp.append(eigcof(u,K,Xb,image.ravel()))\n",
        "        Alphas.append(temp)\n",
        "    Alphas=np.array(Alphas)\n",
        "    return Alphas\n",
        "        "
      ],
      "execution_count": 5,
      "outputs": []
    },
    {
      "cell_type": "code",
      "metadata": {
        "id": "sapZu2RzmgWt",
        "outputId": "87739554-1779-42e1-f6d7-3e7ec0e72775",
        "colab": {
          "base_uri": "https://localhost:8080/"
        }
      },
      "source": [
        "w, v = LA.eig(L)\n",
        "print(Xib.shape,v.shape)\n",
        "U=np.matmul(Xib.T,v)\n",
        "#U=U / np.linalg.norm(U)\n",
        "U = (U-U.min(axis=0))/(U.max(axis=0)-U.min(axis=0))\n",
        "print(U.shape)\n",
        "u=U"
      ],
      "execution_count": 6,
      "outputs": [
        {
          "output_type": "stream",
          "text": [
            "(192, 10304) (192, 192)\n",
            "(10304, 192)\n"
          ],
          "name": "stdout"
        }
      ]
    },
    {
      "cell_type": "markdown",
      "metadata": {
        "id": "UUYWkQaX22j6"
      },
      "source": [
        "U is the eigen vector matrix of Covariance matrix with shape(10304x192)."
      ]
    },
    {
      "cell_type": "code",
      "metadata": {
        "id": "NsGdTVYRmgW2",
        "outputId": "07eb5b16-e0dc-4b6d-faab-1cdb7193ef4e",
        "colab": {
          "base_uri": "https://localhost:8080/"
        }
      },
      "source": [
        "image = read_pgm(\"../images/ORL/s\"+str(1)+\"/\"+str(7)+\".pgm\", byteorder='<')\n",
        "print(eigcof(u,3,Xb,image.ravel()).shape)\n",
        "K=20\n",
        "Alphas=[]\n",
        "for i in range(32):\n",
        "        temp=[]\n",
        "        for j in range(6):\n",
        "            image = read_pgm(\"../images/ORL/s\"+str(i+1)+\"/\"+str(j+1)+\".pgm\", byteorder='<')\n",
        "            temp.append(eigcof(u,K,Xb,image.ravel()))\n",
        "        Alphas.append(temp)\n",
        "Alphas=np.array(Alphas)"
      ],
      "execution_count": 7,
      "outputs": [
        {
          "output_type": "stream",
          "text": [
            "(3,)\n"
          ],
          "name": "stdout"
        }
      ]
    },
    {
      "cell_type": "code",
      "metadata": {
        "id": "n5wefX_QmgW4",
        "outputId": "b24e40ba-c219-46db-ea21-754fc1809dce",
        "colab": {
          "base_uri": "https://localhost:8080/"
        }
      },
      "source": [
        "#print(Alphas)\n",
        "image = read_pgm(\"../images/ORL/s\"+str(11)+\"/\"+str(8)+\".pgm\", byteorder='<')\n",
        "print(diff(Alphas,u,K,Xb,image.ravel()))\n",
        "Tot=0\n",
        "Pos=0\n",
        "for i in range(32):\n",
        "        temp=[]\n",
        "        for j in range(6,10):\n",
        "            image = read_pgm(\"../images/ORL/s\"+str(i+1)+\"/\"+str(j+1)+\".pgm\", byteorder='<')\n",
        "            chk=diff(Alphas,u,K,Xb,image.ravel())\n",
        "            if(chk==(i+1)):\n",
        "                Pos+=1\n",
        "            Tot+=1\n",
        "print(Pos,Tot,'over')"
      ],
      "execution_count": 9,
      "outputs": [
        {
          "output_type": "stream",
          "text": [
            "11\n",
            "94 128 over\n"
          ],
          "name": "stdout"
        }
      ]
    },
    {
      "cell_type": "code",
      "metadata": {
        "id": "wqL3_xMJmgW7",
        "outputId": "a8ed71f0-ed8a-4eb1-a7d2-f9835335abbb",
        "colab": {
          "base_uri": "https://localhost:8080/"
        }
      },
      "source": [
        "Kval=[1, 2, 3, 5, 10, 15, 20, 30, 50, 75, 100,150,170]\n",
        "x1=Kval.copy()\n",
        "y1=[]\n",
        "for kv in Kval:\n",
        "    y1.append(onestep(Aplcal(u,kv,Xb),u,kv,Xb))\n",
        "print(x1)\n",
        "print(y1)\n",
        "    "
      ],
      "execution_count": 10,
      "outputs": [
        {
          "output_type": "stream",
          "text": [
            "[1, 2, 3, 5, 10, 15, 20, 30, 50, 75, 100, 150, 170]\n",
            "[0.15625, 0.3828125, 0.5703125, 0.6484375, 0.7265625, 0.7421875, 0.734375, 0.6953125, 0.6171875, 0.578125, 0.546875, 0.5, 0.46875]\n"
          ],
          "name": "stdout"
        }
      ]
    },
    {
      "cell_type": "code",
      "metadata": {
        "id": "yJIUT9LqmgW-",
        "outputId": "22de68f6-f87a-4247-ddb0-4ba481881113",
        "colab": {
          "base_uri": "https://localhost:8080/",
          "height": 279
        }
      },
      "source": [
        "plt.plot(x1,y1)\n",
        "plt.xlabel('K value')\n",
        "plt.ylabel('recognition rate')\n",
        "plt.savefig('orleig')\n",
        "plt.show()"
      ],
      "execution_count": 11,
      "outputs": [
        {
          "output_type": "display_data",
          "data": {
            "image/png": "[encoded data removed]",
            "text/plain": [
              "<Figure size 432x288 with 1 Axes>"
            ]
          },
          "metadata": {
            "tags": [],
            "needs_background": "light"
          }
        }
      ]
    },
    {
      "cell_type": "markdown",
      "metadata": {
        "id": "4kUxr2Np405r"
      },
      "source": [
        "The above graph shows recognition rate vs k for 0 to 175 we got best k value near 20-25."
      ]
    },
    {
      "cell_type": "code",
      "metadata": {
        "id": "qUoVBkPZmgWy",
        "outputId": "ce3413ba-c7a7-46a2-f149-c469359264c3",
        "colab": {
          "base_uri": "https://localhost:8080/"
        }
      },
      "source": [
        "#Xib=np.transpose(Xib)\n",
        "print(Xib.shape)\n",
        "u, s, vh = np.linalg.svd(Xib, full_matrices=False)\n",
        "print(u.shape,s.shape,vh.shape)\n",
        "#print(s)"
      ],
      "execution_count": 12,
      "outputs": [
        {
          "output_type": "stream",
          "text": [
            "(192, 10304)\n",
            "(192, 192) (192,) (192, 10304)\n"
          ],
          "name": "stdout"
        }
      ]
    },
    {
      "cell_type": "code",
      "metadata": {
        "id": "53Fk6HewmgXB",
        "outputId": "b05591c3-f593-47fc-c57d-48870a9788fc",
        "colab": {
          "base_uri": "https://localhost:8080/"
        }
      },
      "source": [
        "#Yale\n",
        "def readpgm(filename, byteorder='>'):\n",
        "    \"\"\"Return image data from a raw PGM file as numpy array.\n",
        "    Format specification: http://netpbm.sourceforge.net/doc/pgm.html\n",
        "    \"\"\"\n",
        "    with open(filename, 'rb') as f:\n",
        "        buffer_ = f.read()\n",
        "    try:\n",
        "        header, width, height, maxval = re.search(\n",
        "            b\"(^P5\\s(?:\\s*#.*[\\r\\n])*\"\n",
        "            b\"(\\d+)\\s(?:\\s*#.*[\\r\\n])*\"\n",
        "            b\"(\\d+)\\s(?:\\s*#.*[\\r\\n])*\"\n",
        "            b\"(\\d+)\\s(?:\\s*#.*[\\r\\n]\\s)*)\", buffer_).groups()\n",
        "    except AttributeError:\n",
        "        raise ValueError(\"Not a raw PGM file: '%s'\" % filename)\n",
        "    try:\n",
        "        res= np.frombuffer(buffer_,\n",
        "                         dtype='u1' if int(maxval) < 256 else byteorder+'u2',\n",
        "                         count=int(width)*int(height),\n",
        "                         offset=len(header)\n",
        "                         ).reshape((int(height), int(width)))\n",
        "    except ValueError as e:\n",
        "        return []\n",
        "        \n",
        "    return res\n",
        "import os\n",
        "from collections import defaultdict\n",
        "traindic=defaultdict(lambda:[])\n",
        "testdic=defaultdict(lambda:[])\n",
        "\n",
        "path = '../images/CroppedYale'\n",
        "\n",
        "folders = []\n",
        "nX=[]\n",
        "# r=root, d=directories, f = files\n",
        "for r,d, f in os.walk(path):\n",
        "    for fol in d:\n",
        "        #if '.txt' in file:\n",
        "            folders.append(os.path.join(r, fol))\n",
        "for i in folders:\n",
        "    ke=int(i[-2:])\n",
        "    c=0\n",
        "    for r,d, f in os.walk(i):\n",
        "        for file in f:\n",
        "            if c<40:\n",
        "                #print(os.path.join(r, file))\n",
        "                image = readpgm(os.path.join(r, file))\n",
        "                if(image!=[]):\n",
        "                    traindic[ke].append(image.ravel())\n",
        "                    nX.append(image.ravel())\n",
        "            else:\n",
        "                image = readpgm(os.path.join(r, file))\n",
        "                if(image!=[]):\n",
        "                    testdic[ke].append(image.ravel())\n",
        "            if(image!=[]):\n",
        "                c+=1\n",
        "                \n",
        "#print(traindic[1][0].shape)\n",
        "nX=np.array(nX)\n",
        "nXb=np.sum(nX,axis=0)\n",
        "nXb=nXb/nX.shape[0]\n",
        "nXib=np.subtract(nX,nXb)"
      ],
      "execution_count": 14,
      "outputs": [
        {
          "output_type": "stream",
          "text": [
            "/usr/local/lib/python3.6/dist-packages/ipykernel_launcher.py:48: DeprecationWarning: elementwise comparison failed; this will raise an error in the future.\n",
            "/usr/local/lib/python3.6/dist-packages/ipykernel_launcher.py:55: DeprecationWarning: elementwise comparison failed; this will raise an error in the future.\n",
            "/usr/local/lib/python3.6/dist-packages/ipykernel_launcher.py:53: DeprecationWarning: elementwise comparison failed; this will raise an error in the future.\n"
          ],
          "name": "stderr"
        }
      ]
    },
    {
      "cell_type": "code",
      "metadata": {
        "id": "OUsz_TdZmgXG",
        "outputId": "6c01500c-3854-4d2e-f65e-d2a6c22728f2",
        "colab": {
          "base_uri": "https://localhost:8080/"
        }
      },
      "source": [
        "print(nXib.shape)\n",
        "nXib1=np.transpose(nXib)\n",
        "print(nXib1.shape)\n",
        "u, s, vh = np.linalg.svd(nXib1, full_matrices=False)\n",
        "print(u.shape,s.shape,vh.shape)"
      ],
      "execution_count": 15,
      "outputs": [
        {
          "output_type": "stream",
          "text": [
            "(1520, 32256)\n",
            "(32256, 1520)\n",
            "(32256, 1520) (1520,) (1520, 1520)\n"
          ],
          "name": "stdout"
        }
      ]
    },
    {
      "cell_type": "code",
      "metadata": {
        "id": "SQpQWE_omgXI",
        "outputId": "23dc71ae-08d8-44ba-ce66-0a91b4f19b2c",
        "colab": {
          "base_uri": "https://localhost:8080/"
        }
      },
      "source": [
        "print(nX.shape)"
      ],
      "execution_count": 16,
      "outputs": [
        {
          "output_type": "stream",
          "text": [
            "(1520, 32256)\n"
          ],
          "name": "stdout"
        }
      ]
    },
    {
      "cell_type": "code",
      "metadata": {
        "id": "c-hFdgtImgXK"
      },
      "source": [
        "#functions\n",
        "import sys\n",
        "from numpy import linalg as LA\n",
        "def eigcof2(U,k,Xb,zp,th=0):\n",
        "    Zpb=np.subtract(zp,Xb)\n",
        "    if(th==0):\n",
        "        vkb=U[:,:k]\n",
        "    if(th==1):\n",
        "        vkb=U[:,3:k]\n",
        "    #print(vkb.shape,Zpb.shape)\n",
        "    return np.matmul(np.transpose(vkb),Zpb)\n",
        "def diff2(alphas,u,K,Xb,image,th=0):\n",
        "    mins=[sys.maxsize,0]\n",
        "    vec=eigcof2(u,K,Xb,image,th)\n",
        "    for i in alphas.keys():\n",
        "        for j in alphas[i]:\n",
        "            res=np.subtract(vec,j)\n",
        "            val=LA.norm(res)\n",
        "            if(val<mins[0]):\n",
        "                mins=[val,i]\n",
        "    \n",
        "            \n",
        "    return mins[1]#[mins[1]+1,mins[2]+1]\n",
        "def onestep2(Alphas,u,K,Xb,th=0):\n",
        "    Tot=0\n",
        "    Pos=0\n",
        "    for i in testdic.keys():\n",
        "        for j in testdic[i]:\n",
        "            chk=diff2(Alphas,u,K,Xb,j,th)\n",
        "            if(chk==i):\n",
        "                Pos+=1\n",
        "            Tot+=1\n",
        "    return Pos/Tot\n",
        "def Aplcal2(u,K,Xb,th=0):\n",
        "    Alphas=defaultdict(lambda:[])\n",
        "    for i in traindic.keys():\n",
        "        for j in traindic[i]:\n",
        "            Alphas[i].append(eigcof2(u,K,Xb,j,th))\n",
        "    return Alphas\n",
        "        "
      ],
      "execution_count": 17,
      "outputs": []
    },
    {
      "cell_type": "code",
      "metadata": {
        "id": "l6xRC4wkmgXN",
        "outputId": "ca325218-2398-4873-9170-8d882ed48b8f",
        "colab": {
          "base_uri": "https://localhost:8080/"
        }
      },
      "source": [
        "Kval=[5, 10, 15, 20, 30, 50, 60, 65, 75, 100, 200, 300, 500, 1000]\n",
        "x1=Kval.copy()\n",
        "y1=[]\n",
        "for kv in Kval:\n",
        "    print('kval',kv)\n",
        "    y1.append(onestep2(Aplcal2(u,kv,nXb,th=1),u,kv,nXb,th=1))\n",
        "print(x1)\n",
        "print(y1)"
      ],
      "execution_count": 18,
      "outputs": [
        {
          "output_type": "stream",
          "text": [
            "kval 5\n",
            "kval 10\n",
            "kval 15\n",
            "kval 20\n",
            "kval 30\n",
            "kval 50\n",
            "kval 60\n",
            "kval 65\n",
            "kval 75\n",
            "kval 100\n",
            "kval 200\n",
            "kval 300\n",
            "kval 500\n",
            "kval 1000\n",
            "[5, 10, 15, 20, 30, 50, 60, 65, 75, 100, 200, 300, 500, 1000]\n",
            "[0.11573033707865168, 0.35842696629213483, 0.48764044943820223, 0.550561797752809, 0.6314606741573033, 0.6955056179775281, 0.7067415730337079, 0.7123595505617978, 0.7168539325842697, 0.7303370786516854, 0.7528089887640449, 0.7584269662921348, 0.7640449438202247, 0.7674157303370787]\n"
          ],
          "name": "stdout"
        }
      ]
    },
    {
      "cell_type": "code",
      "metadata": {
        "id": "qTblzVrNmgXP",
        "outputId": "ada4693d-de1f-423f-c7a4-2c654b6f98b1",
        "colab": {
          "base_uri": "https://localhost:8080/",
          "height": 283
        }
      },
      "source": [
        "plt.plot(x1,y1)\n",
        "plt.xlabel('K value')\n",
        "plt.ylabel('recognition rate')\n",
        "plt.savefig('yalesvg3less')\n",
        "plt.show()"
      ],
      "execution_count": 19,
      "outputs": [
        {
          "output_type": "display_data",
          "data": {
            "image/png": "[encoded data removed]",
            "text/plain": [
              "<Figure size 432x288 with 1 Axes>"
            ]
          },
          "metadata": {
            "tags": [],
            "needs_background": "light"
          }
        }
      ]
    },
    {
      "cell_type": "markdown",
      "metadata": {
        "id": "AfTEhPUU5DOb"
      },
      "source": [
        "We got the k value increasing as more and more ks are considered and a reasonable k will be 400 because beyond that we are not having much accuracy.\n"
      ]
    }
  ]
}