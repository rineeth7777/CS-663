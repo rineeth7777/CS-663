{
  "nbformat": 4,
  "nbformat_minor": 0,
  "metadata": {
    "colab": {
      "name": "DIP_Assignment4.ipynb",
      "provenance": [],
      "collapsed_sections": []
    },
    "kernelspec": {
      "name": "python3",
      "display_name": "Python 3"
    }
  },
  "cells": [
    {
      "cell_type": "code",
      "metadata": {
        "id": "_l_OXUDH1e8F"
      },
      "source": [
        "import numpy as np\n",
        "import scipy\n",
        "from numpy.linalg import eig\n",
        "from scipy.linalg import det"
      ],
      "execution_count": 1,
      "outputs": []
    },
    {
      "cell_type": "code",
      "metadata": {
        "id": "7pyw_OdRog7a"
      },
      "source": [
        "def mySVD(A):\n",
        "  m,n = A.shape\n",
        "\n",
        "  M = np.matmul(A,A.T)\n",
        "  eig_values_M, U = eig(M)\n",
        "\n",
        "  sorted_indices_M = np.flip(eig_values_M.argsort())\n",
        "\n",
        "  eig_values_M = eig_values_M[sorted_indices_M]\n",
        "  U = U[:,sorted_indices_M]\n",
        "\n",
        "  V = np.matmul(A.T,U)\n",
        "  V_norms = np.linalg.norm(V,axis=0)\n",
        "  V = V/V_norms\n",
        "\n",
        "  S = np.diag(np.abs(np.sqrt(eig_values_M)))\n",
        "\n",
        "  return U,S,V"
      ],
      "execution_count": 15,
      "outputs": []
    },
    {
      "cell_type": "code",
      "metadata": {
        "id": "1rh1kg2e1kSF",
        "outputId": "077ceb31-c5d5-4f9e-d7ed-8cc395178a53",
        "colab": {
          "base_uri": "https://localhost:8080/"
        }
      },
      "source": [
        "A = np.random.rand(3,5)\n",
        "\n",
        "print(\"Original Matrix \\n\",A,\"\\n\")\n",
        "\n",
        "U,S,V = mySVD(A)\n",
        "\n",
        "US = np.matmul(U,S)\n",
        "USV = np.matmul(US,V.T)\n",
        "\n",
        "print(\"Reconstructed Matrix \\n\",USV,\"\\n\")\n",
        "\n",
        "print(\"Frobenian Error =\",np.linalg.norm(A-USV))"
      ],
      "execution_count": 26,
      "outputs": [
        {
          "output_type": "stream",
          "text": [
            "Original Matrix \n",
            " [[0.62769402 0.35625672 0.04379014 0.90937452 0.43695893]\n",
            " [0.24623799 0.16417425 0.13077553 0.68796705 0.7460456 ]\n",
            " [0.2261798  0.69345143 0.63095313 0.01635929 0.66683978]] \n",
            "\n",
            "Reconstructed Matrix \n",
            " [[0.62769402 0.35625672 0.04379014 0.90937452 0.43695893]\n",
            " [0.24623799 0.16417425 0.13077553 0.68796705 0.7460456 ]\n",
            " [0.2261798  0.69345143 0.63095313 0.01635929 0.66683978]] \n",
            "\n",
            "Frobenian Error = 8.32117758046192e-16\n"
          ],
          "name": "stdout"
        }
      ]
    },
    {
      "cell_type": "code",
      "metadata": {
        "id": "y8wXqWOZDzwS"
      },
      "source": [
        "#This method doesn't work always\n",
        "def mySVD(A):\n",
        "  m,n = A.shape\n",
        "  r = min(m,n)\n",
        "\n",
        "  M = np.matmul(A,A.T)\n",
        "  N = np.matmul(A.T,A)\n",
        "\n",
        "  eig_values_M, U = eig(M)\n",
        "  eig_values_N, V = eig(N)\n",
        "\n",
        "  sorted_indices_M = np.flip(eig_values_M.argsort())\n",
        "  sorted_indices_N = np.flip(eig_values_N.argsort())\n",
        "\n",
        "  eig_values_M = eig_values_M[sorted_indices_M]\n",
        "  U = U[:,sorted_indices_M]\n",
        "  eig_values_N = eig_values_N[sorted_indices_N]\n",
        "  V = V[:,sorted_indices_N]\n",
        "\n",
        "  S_int = np.diag(np.abs(np.sqrt(eig_values_M[:r])))\n",
        "  S = np.zeros((m,n))\n",
        "  S[:r,:r] = S_int\n",
        "\n",
        "  return U,S,V"
      ],
      "execution_count": null,
      "outputs": []
    }
  ]
}