{
  "nbformat": 4,
  "nbformat_minor": 0,
  "metadata": {
    "colab": {
      "name": "dipa4q6.ipynb",
      "provenance": []
    },
    "kernelspec": {
      "name": "python3",
      "display_name": "Python 3"
    }
  },
  "cells": [
    {
      "cell_type": "code",
      "metadata": {
        "id": "SQj3pZFhXv4H",
        "outputId": "ec5b191a-0df6-4150-dece-7d5317413ea0",
        "colab": {
          "base_uri": "https://localhost:8080/"
        }
      },
      "source": [
        "#### from PIL import Image\n",
        "import numpy as np\n",
        "#img=Image.open('ORL/s1/res8.png')\n",
        "#img.show()\n",
        "import re\n",
        "from matplotlib import pyplot as plt\n",
        "import numpy\n",
        "M1=32\n",
        "M2=6\n",
        "M3=10\n",
        "def read_pgm(filename, byteorder='>'):\n",
        "    \"\"\"Return image data from a raw PGM file as numpy array.\n",
        "\n",
        "    Format specification: http://netpbm.sourceforge.net/doc/pgm.html\n",
        "\n",
        "    \"\"\"\n",
        "    with open(filename, 'rb') as f:\n",
        "        buffer = f.read()\n",
        "    try:\n",
        "        header, width, height, maxval = re.search(\n",
        "            b\"(^P5\\s(?:\\s*#.*[\\r\\n])*\"\n",
        "            b\"(\\d+)\\s(?:\\s*#.*[\\r\\n])*\"\n",
        "            b\"(\\d+)\\s(?:\\s*#.*[\\r\\n])*\"\n",
        "            b\"(\\d+)\\s(?:\\s*#.*[\\r\\n]\\s)*)\", buffer).groups()\n",
        "    except AttributeError:\n",
        "        raise ValueError(\"Not a raw PGM file: '%s'\" % filename)\n",
        "    return numpy.frombuffer(buffer,\n",
        "                            dtype='u1' if int(maxval) < 256 else byteorder+'u2',\n",
        "                            count=int(width)*int(height),\n",
        "                            offset=len(header)\n",
        "                            ).reshape((int(height), int(width)))\n",
        "\n",
        "\n",
        "if __name__ == \"__main__\":\n",
        "    database=[]\n",
        "    X=[]\n",
        "    for i in range(32):\n",
        "        temp=[]\n",
        "        for j in range(6):\n",
        "            image = read_pgm(\"../images/ORL/s\"+str(i+1)+\"/\"+str(j+1)+\".pgm\", byteorder='<')\n",
        "            temp.append(image)\n",
        "            X.append(image.ravel())\n",
        "        database.append(temp)\n",
        "    database=np.array(database)\n",
        "    X=np.array(X).T\n",
        "    #X = (X-X.min(axis=0))/(X.max(axis=0)-X.min(axis=0))\n",
        "    X = X.T\n",
        "    Xb=np.sum(X,axis=0)\n",
        "    Xb=Xb/X.shape[0]\n",
        "    Xib=np.subtract(X,Xb)\n",
        "    L=np.matmul(Xib,Xib.T)   #np.cov(Xib)\n",
        "    print(L.shape)\n",
        "    print(X.shape,X.shape[0])\n",
        "    print(Xib.shape)\n",
        "    #image = read_pgm(\"ORL/s1/1.pgm\", byteorder='<')\n",
        "    #print(type(image))\n",
        "    #plt.imshow(database[31][1], pyplot.cm.gray)"
      ],
      "execution_count": 47,
      "outputs": [
        {
          "output_type": "stream",
          "text": [
            "(192, 192)\n",
            "(192, 10304) 192\n",
            "(192, 10304)\n"
          ],
          "name": "stdout"
        }
      ]
    },
    {
      "cell_type": "markdown",
      "metadata": {
        "id": "HbT-5OO_65cQ"
      },
      "source": [
        "Method: we get false positives and negatives when we use the same eigen vectors for recognizing new person which should be rejected. We used the median of deviation and a parameter gamma for tuning the best possible value for rejecting the false negatives and positives. We will be accepting the values which are in range of (0,gamma*median of deviations )of image from the other images eigen vectors.The d greater than that range will be rejected. \n"
      ]
    },
    {
      "cell_type": "code",
      "metadata": {
        "id": "q0ebPAd5YirH"
      },
      "source": [
        "import sys\n",
        "from numpy import linalg as LA\n",
        "def eigcof(U,k,Xb,zp):\n",
        "    Zpb=np.subtract(zp,Xb)\n",
        "    vkb=U[:,:k]\n",
        "    #print(vkb.shape,Zpb.shape)\n",
        "    return np.matmul(np.transpose(vkb),Zpb)\n",
        "def diff(alphas,u,K,Xb,image):\n",
        "    a,b,c=alphas.shape\n",
        "    mins=[sys.maxsize,0,0]\n",
        "    vec=eigcof(u,K,Xb,image.ravel())\n",
        "    #print(vec)\n",
        "    for i in range(a):\n",
        "        for j in range(b):\n",
        "            #print(vec.shape,alphas[i,j].shape)\n",
        "            res=np.subtract(vec,alphas[i,j])\n",
        "            val=LA.norm(res)\n",
        "            #print(vec,alphas[i,j],val)\n",
        "            if(val<mins[0]):\n",
        "                #print(vec,alphas[i,j],val,i,j)\n",
        "                mins=[val,i,j]\n",
        "    return mins[1]+1#[mins[1]+1,mins[2]+1]\n",
        "def diff_extended(alphas,u,K,Xb,image,gamma=0.15):\n",
        "    a,b,c=alphas.shape\n",
        "    mins=[sys.maxsize,0,0]\n",
        "    vec=eigcof(u,K,Xb,image.ravel())\n",
        "    #print(vec)\n",
        "    avg = []\n",
        "    for i in range(a):\n",
        "        #sum = 0\n",
        "        for j in range(b):\n",
        "            #print(vec.shape,alphas[i,j].shape)\n",
        "            res=np.subtract(vec,alphas[i,j])\n",
        "            val=LA.norm(res)\n",
        "            #print(vec,alphas[i,j],val)\n",
        "            #sum = sum+val\n",
        "            if(val<mins[0]):\n",
        "                #print(vec,alphas[i,j],val,i,j)\n",
        "                mins=[val,i,j]\n",
        "            avg.append(val)\n",
        "    med = np.median(avg)\n",
        "    if mins[0]< gamma*med:\n",
        "        return mins[1]+1#[mins[1]+1,mins[2]+1]\n",
        "    else:\n",
        "        return 0 #not identified\n",
        "def onestep(Alphas,u,K,Xb):\n",
        "    Tot=0\n",
        "    Pos=0\n",
        "    for i in range(32):\n",
        "        for j in range(6,10):\n",
        "            image = read_pgm(\"../images/ORL/s\"+str(i+1)+\"/\"+str(j+1)+\".pgm\", byteorder='<')\n",
        "            chk=diff(Alphas,u,K,Xb,image.ravel())\n",
        "            if(chk==(i+1)):\n",
        "                Pos+=1\n",
        "            Tot+=1\n",
        "    return Pos/Tot\n",
        "def Aplcal(u,K,Xb):\n",
        "    Alphas=[]\n",
        "    for i in range(32):\n",
        "        temp=[]\n",
        "        for j in range(6):\n",
        "            image = read_pgm(\"../images/ORL/s\"+str(i+1)+\"/\"+str(j+1)+\".pgm\", byteorder='<')\n",
        "            temp.append(eigcof(u,K,Xb,image.ravel()))\n",
        "        Alphas.append(temp)\n",
        "    Alphas=np.array(Alphas)\n",
        "    return Alphas"
      ],
      "execution_count": 59,
      "outputs": []
    },
    {
      "cell_type": "code",
      "metadata": {
        "id": "Xrz-mAlWX0Z7",
        "outputId": "8963ac7c-f202-4505-820e-e55007c070b3",
        "colab": {
          "base_uri": "https://localhost:8080/"
        }
      },
      "source": [
        "from numpy import linalg as LA\n",
        "w, v = LA.eig(L)\n",
        "print(Xib.shape,v.shape,w.shape)\n",
        "U=np.matmul(Xib.T,v)\n",
        "U = (U-U.min(axis=0))/(U.max(axis=0)-U.min(axis=0))\n",
        "#U=U / np.linalg.norm(U)\n",
        "print(U.shape)\n",
        "u=U"
      ],
      "execution_count": 60,
      "outputs": [
        {
          "output_type": "stream",
          "text": [
            "(192, 10304) (192, 192) (192,)\n",
            "(10304, 192)\n"
          ],
          "name": "stdout"
        }
      ]
    },
    {
      "cell_type": "code",
      "metadata": {
        "id": "2oi7YjGNX3Bb",
        "outputId": "d0345f54-21fa-467a-b2ce-599d6f3a4402",
        "colab": {
          "base_uri": "https://localhost:8080/"
        }
      },
      "source": [
        "image = read_pgm(\"../images/ORL/s\"+str(1)+\"/\"+str(7)+\".pgm\", byteorder='<')\n",
        "print(eigcof(u,3,Xb,image.ravel()).shape)\n",
        "K=20\n",
        "Alphas=[]\n",
        "for i in range(32):\n",
        "        temp=[]\n",
        "        for j in range(6):\n",
        "            image = read_pgm(\"../images/ORL/s\"+str(i+1)+\"/\"+str(j+1)+\".pgm\", byteorder='<')\n",
        "            temp.append(eigcof(u,K,Xb,image.ravel()))\n",
        "        Alphas.append(temp)\n",
        "Alphas=np.array(Alphas)"
      ],
      "execution_count": 61,
      "outputs": [
        {
          "output_type": "stream",
          "text": [
            "(3,)\n"
          ],
          "name": "stdout"
        }
      ]
    },
    {
      "cell_type": "code",
      "metadata": {
        "id": "7K2uLvNqYFk0",
        "outputId": "77c0c018-7130-439d-b096-5aabe9a3dd39",
        "colab": {
          "base_uri": "https://localhost:8080/"
        }
      },
      "source": [
        "Tot=0\n",
        "Pos=0\n",
        "for i in range(32):\n",
        "        temp=[]\n",
        "        for j in range(6,10):\n",
        "            image = read_pgm(\"../images/ORL/s\"+str(i+1)+\"/\"+str(j+1)+\".pgm\", byteorder='<')\n",
        "            chk=diff(Alphas,u,K,Xb,image.ravel())\n",
        "            if(chk==(i+1)):\n",
        "                Pos+=1\n",
        "            Tot+=1\n",
        "print(Pos,Tot,'over')"
      ],
      "execution_count": 62,
      "outputs": [
        {
          "output_type": "stream",
          "text": [
            "94 128 over\n"
          ],
          "name": "stdout"
        }
      ]
    },
    {
      "cell_type": "code",
      "metadata": {
        "id": "2ew0ZehxYKOQ",
        "outputId": "a87cd51f-9ad4-4f68-ba41-8c0a03300a71",
        "colab": {
          "base_uri": "https://localhost:8080/"
        }
      },
      "source": [
        "recog = []\n",
        "Tot=0\n",
        "Pos=0\n",
        "for i in range(32,40):\n",
        "        temp=[]\n",
        "        for j in range(10):\n",
        "            image = read_pgm(\"../images/ORL/s\"+str(i+1)+\"/\"+str(j+1)+\".pgm\", byteorder='<')\n",
        "            chk=diff_extended(Alphas,u,K,Xb,image.ravel())\n",
        "            recog.append(chk)\n",
        "            if(chk==(i+1)):\n",
        "                Pos+=1\n",
        "            Tot+=1\n",
        "print(Pos,Tot,'over')"
      ],
      "execution_count": 63,
      "outputs": [
        {
          "output_type": "stream",
          "text": [
            "0 80 over\n"
          ],
          "name": "stdout"
        }
      ]
    },
    {
      "cell_type": "code",
      "metadata": {
        "id": "nEWXZEjIYOrz",
        "outputId": "329e2505-9e1f-4da1-e757-176baa1a0567",
        "colab": {
          "base_uri": "https://localhost:8080/"
        }
      },
      "source": [
        "print(len(recog) - np.count_nonzero(recog),len(recog))"
      ],
      "execution_count": 64,
      "outputs": [
        {
          "output_type": "stream",
          "text": [
            "50 80\n"
          ],
          "name": "stdout"
        }
      ]
    },
    {
      "cell_type": "markdown",
      "metadata": {
        "id": "K4-dC5hr6A_L"
      },
      "source": [
        "We are able to get 30/80 wrong which are false positives detected which should be no recognitions i.e. 37.5%"
      ]
    },
    {
      "cell_type": "code",
      "metadata": {
        "id": "rqX_1kAcYoZ5",
        "outputId": "38c6c1ee-75ab-47d5-b505-87407a4aa58a",
        "colab": {
          "base_uri": "https://localhost:8080/"
        }
      },
      "source": [
        "Tot=0\n",
        "Pos=0\n",
        "for i in range(32):\n",
        "        temp=[]\n",
        "        for j in range(6,10):\n",
        "            image = read_pgm(\"../images/ORL/s\"+str(i+1)+\"/\"+str(j+1)+\".pgm\", byteorder='<')\n",
        "            chk=diff_extended(Alphas,u,K,Xb,image.ravel())\n",
        "            if(chk==(i+1)):\n",
        "                Pos+=1\n",
        "            Tot+=1\n",
        "print(Pos,Tot,'over')"
      ],
      "execution_count": 65,
      "outputs": [
        {
          "output_type": "stream",
          "text": [
            "64 128 over\n"
          ],
          "name": "stdout"
        }
      ]
    },
    {
      "cell_type": "markdown",
      "metadata": {
        "id": "RPxx6AXw5eZX"
      },
      "source": [
        "We are getting 64/128 values correct i.e 50% rejected. "
      ]
    }
  ]
}